{
 "cells": [
  {
   "cell_type": "markdown",
   "id": "3e5bcfd1",
   "metadata": {},
   "source": [
    "<h1 style=\"font-family:Impact,Arial;font-size:30px;\">37004 Interest Rates and Credit Risk Models - Spring 2024</h1>\n",
    "<h1 style=\"font-family:Impact,Arial;font-size:45px;\">Assignment Part 1</h1>\n",
    "<h2 style=\"font-family:Arial;\">Erik Schl&ouml;gl</h2>\n",
    "<p><small> School of Mathematical &amp; Physical Sciences<br>\n",
    "University of Technology Sydney\n",
    "</small></p>\n",
    "<p>\n",
    "<a href=\"mailto:Erik.Schlogl@uts.edu.au?Subject=37000 JIT\" target=\"_blank\">\n",
    "<small><font color=MediumVioletRed>Erik.Schlogl@uts.edu.au</font></small></a>\n",
    "</p>\n",
    "<hr style=\"height:5px;border:none;color:#333;background-color:#333;\" />\n"
   ]
  },
  {
   "cell_type": "code",
   "execution_count": 113,
   "id": "68a4b5e3",
   "metadata": {},
   "outputs": [],
   "source": [
    "import pandas as pd\n",
    "import numpy as np\n",
    "from scipy.optimize import fsolve as solver\n",
    "import matplotlib.pyplot as plt"
   ]
  },
  {
   "cell_type": "code",
   "execution_count": 114,
   "id": "654dc620",
   "metadata": {},
   "outputs": [
    {
     "data": {
      "text/html": [
       "<div>\n",
       "<style scoped>\n",
       "    .dataframe tbody tr th:only-of-type {\n",
       "        vertical-align: middle;\n",
       "    }\n",
       "\n",
       "    .dataframe tbody tr th {\n",
       "        vertical-align: top;\n",
       "    }\n",
       "\n",
       "    .dataframe thead th {\n",
       "        text-align: right;\n",
       "    }\n",
       "</style>\n",
       "<table border=\"1\" class=\"dataframe\">\n",
       "  <thead>\n",
       "    <tr style=\"text-align: right;\">\n",
       "      <th></th>\n",
       "      <th>Type</th>\n",
       "      <th>Term</th>\n",
       "      <th>Rate</th>\n",
       "    </tr>\n",
       "  </thead>\n",
       "  <tbody>\n",
       "    <tr>\n",
       "      <th>0</th>\n",
       "      <td>BBSW</td>\n",
       "      <td>1 month</td>\n",
       "      <td>4.06</td>\n",
       "    </tr>\n",
       "    <tr>\n",
       "      <th>1</th>\n",
       "      <td>BBSW</td>\n",
       "      <td>3 months</td>\n",
       "      <td>4.17</td>\n",
       "    </tr>\n",
       "    <tr>\n",
       "      <th>2</th>\n",
       "      <td>BBSW</td>\n",
       "      <td>6 months</td>\n",
       "      <td>4.50</td>\n",
       "    </tr>\n",
       "    <tr>\n",
       "      <th>3</th>\n",
       "      <td>Swap</td>\n",
       "      <td>1 year</td>\n",
       "      <td>4.29</td>\n",
       "    </tr>\n",
       "    <tr>\n",
       "      <th>4</th>\n",
       "      <td>Swap</td>\n",
       "      <td>3 years</td>\n",
       "      <td>4.06</td>\n",
       "    </tr>\n",
       "    <tr>\n",
       "      <th>5</th>\n",
       "      <td>Swap</td>\n",
       "      <td>5 years</td>\n",
       "      <td>4.20</td>\n",
       "    </tr>\n",
       "    <tr>\n",
       "      <th>6</th>\n",
       "      <td>Swap</td>\n",
       "      <td>10 years</td>\n",
       "      <td>4.45</td>\n",
       "    </tr>\n",
       "    <tr>\n",
       "      <th>7</th>\n",
       "      <td>Swap</td>\n",
       "      <td>15 years</td>\n",
       "      <td>4.58</td>\n",
       "    </tr>\n",
       "  </tbody>\n",
       "</table>\n",
       "</div>"
      ],
      "text/plain": [
       "   Type      Term  Rate\n",
       "0  BBSW   1 month  4.06\n",
       "1  BBSW  3 months  4.17\n",
       "2  BBSW  6 months  4.50\n",
       "3  Swap    1 year  4.29\n",
       "4  Swap   3 years  4.06\n",
       "5  Swap   5 years  4.20\n",
       "6  Swap  10 years  4.45\n",
       "7  Swap  15 years  4.58"
      ]
     },
     "execution_count": 114,
     "metadata": {},
     "output_type": "execute_result"
    }
   ],
   "source": [
    "df = pd.DataFrame([{\"Type\":\"BBSW\",\"Term\":\"1 month\",\"Rate\":4.06},{\"Type\":\"BBSW\",\"Term\":\"3 months\",\"Rate\":4.17},{\"Type\":\"BBSW\",\"Term\":\"6 months\",\"Rate\":4.50},{\"Type\":\"Swap\",\"Term\":\"1 year\",\"Rate\":4.29},{\"Type\":\"Swap\",\"Term\":\"3 years\",\"Rate\":4.06},{\"Type\":\"Swap\",\"Term\":\"5 years\",\"Rate\":4.20},{\"Type\":\"Swap\",\"Term\":\"10 years\",\"Rate\":4.45},{\"Type\":\"Swap\",\"Term\":\"15 years\",\"Rate\":4.58}])\n",
    "df"
   ]
  },
  {
   "cell_type": "markdown",
   "id": "a873acdc",
   "metadata": {},
   "source": [
    "Note that the bank bill swap rate (BBSW) is quoted per annum with simple compounding, and \"Swaps are quoted on a quarterly basis for maturities out to 3 years and on a semi-annual basis for maturities 4 years and greater.\" AFMA (2023), Interest Rate Derivative Conventions (see https://afma.com.au/getattachment/Standards/Market-Conventions/Sections/Content/Interest-Rate-Derivative-Conventions-2023-07.pdf?lang=en-AU )\n"
   ]
  },
  {
   "cell_type": "markdown",
   "id": "1ef373c1",
   "metadata": {},
   "source": [
    "<H2>Task 1:</H2>\n",
    "Determine the term structure of zero coupon bond prices that these rates imply, using loglinear interpolation where necessary. <I>(4 marks)</I>\n"
   ]
  },
  {
   "cell_type": "code",
   "execution_count": 115,
   "id": "899b32f6",
   "metadata": {},
   "outputs": [],
   "source": [
    "def term_structure_constructor(df):\n",
    "    new_df = pd.DataFrame(df)\n",
    "    new_df['Term'] = [1/12, 1/4, 1/2, 1, 3, 5, 10, 15]\n",
    "    new_df['Rate'] = new_df['Rate']/100\n",
    "    term_structure = pd.DataFrame({\n",
    "        'Term': [0] + list(new_df['Term']),\n",
    "        'Discount Factor': [1] + [np.nan for _ in range(len(new_df))]\n",
    "    })\n",
    "    def loglin_interpolate(t, B=None):\n",
    "        if t in term_structure['Term'].array:\n",
    "            df = term_structure[term_structure['Term']==t].reset_index(drop=True).iloc[0, 1]\n",
    "            if np.isnan(df):\n",
    "                if B==None:\n",
    "                    return ValueError('B2 must be entered')\n",
    "                else:\n",
    "                    return B\n",
    "            else:\n",
    "                return df\n",
    "        T1 = term_structure[term_structure['Term']<t]['Term'].max()\n",
    "        T2 = term_structure[term_structure['Term']>t]['Term'].min()\n",
    "        B1 = term_structure[term_structure['Term']==T1].reset_index(drop=True).iloc[0, 1]\n",
    "        B2 = term_structure[term_structure['Term']==T2].reset_index(drop=True).iloc[0, 1]\n",
    "        if np.isnan(B2):\n",
    "            if B==None:\n",
    "                return ValueError('B2 must be entered')\n",
    "            else:\n",
    "                B2=B\n",
    "        return B1*((B2/B1)**((t-T1)/(T2-T1)))\n",
    "    \n",
    "    # BBSW part\n",
    "    BBSW = new_df[new_df['Type']=='BBSW'].reset_index(drop=True)\n",
    "    for i in range(len(BBSW)):\n",
    "        term_structure.iloc[i+1,1]=1/(1+BBSW.iloc[i,1]*BBSW.iloc[i,2])\n",
    "\n",
    "    # Swap part\n",
    "    Swap = new_df[new_df['Type']=='Swap'].reset_index(drop=True)\n",
    "    def swap_rate_to_df(x, rate, freq, T):\n",
    "        payments = np.arange(freq, T+freq, freq)\n",
    "        dfs = []\n",
    "        for t in payments:\n",
    "            dfs.append(loglin_interpolate(t, x[0]))\n",
    "        return [(1-dfs[-1])-rate*freq*np.sum(dfs)]\n",
    "    for i in range(len(Swap)):\n",
    "        T = Swap.iloc[i, 1]\n",
    "        rate = Swap.iloc[i, 2]\n",
    "        freq = 1/4 if T<=3 else 1/2\n",
    "        term_structure.iloc[i+1+len(BBSW),1] = solver(swap_rate_to_df, [0.2], (rate, freq, T))[0]\n",
    "\n",
    "    def df_calculator(t):\n",
    "        if t<0 or t>15:\n",
    "            return ValueError(\"t must be in range [0,15]\")\n",
    "        if t in term_structure['Term'].array:\n",
    "            df = term_structure[term_structure['Term']==t].reset_index(drop=True).iloc[0, 1]\n",
    "            return df\n",
    "        T1 = term_structure[term_structure['Term']<t]['Term'].max()\n",
    "        T2 = term_structure[term_structure['Term']>t]['Term'].min()\n",
    "        B1 = term_structure[term_structure['Term']==T1].reset_index(drop=True).iloc[0, 1]\n",
    "        B2 = term_structure[term_structure['Term']==T2].reset_index(drop=True).iloc[0, 1]\n",
    "        return B1*((B2/B1)**((t-T1)/(T2-T1)))\n",
    "\n",
    "    return df_calculator, term_structure"
   ]
  },
  {
   "cell_type": "code",
   "execution_count": 116,
   "id": "64f3fa37",
   "metadata": {},
   "outputs": [
    {
     "data": {
      "image/png": "[encoded data removed]",
      "text/plain": [
       "<Figure size 640x480 with 1 Axes>"
      ]
     },
     "metadata": {},
     "output_type": "display_data"
    },
    {
     "name": "stdout",
     "output_type": "stream",
     "text": [
      "Term structure is define by the given zero counpon bonds price below:\n",
      "        Term  Discount Factor\n",
      "0   0.000000         1.000000\n",
      "1   0.083333         0.996628\n",
      "2   0.250000         0.989683\n",
      "3   0.500000         0.977995\n",
      "4   1.000000         0.958237\n",
      "5   3.000000         0.886004\n",
      "6   5.000000         0.812171\n",
      "7  10.000000         0.641859\n",
      "8  15.000000         0.502594\n",
      "Any discount factor at the time in range [0,15] will be calculated via log-linear interpolation of the 2 closest zero counpon bonds on both side of the time in the above table\n"
     ]
    }
   ],
   "source": [
    "df_calculator_1, term_structure = term_structure_constructor(df)\n",
    "t = np.arange(0, 15, 1/500)\n",
    "dfs = list(map(lambda x: df_calculator_1(x),t))\n",
    "plt.plot(t, dfs, linestyle='-', color='r')\n",
    "plt.title('Term structure')\n",
    "plt.xlabel('Time')\n",
    "plt.ylabel('Discount Factor')\n",
    "plt.show()\n",
    "print(\"Term structure is define by the given zero counpon bonds price below:\")\n",
    "print(term_structure)\n",
    "print(\"Any discount factor at the time in range [0,15] will be calculated via log-linear interpolation of the 2 closest zero counpon bonds on both side of the time in the above table\")"
   ]
  },
  {
   "cell_type": "markdown",
   "id": "6f2b4196",
   "metadata": {},
   "source": [
    "<H2>Task 2:</H2>\n",
    "Find the coefficients of a \"maximum smoothness\" term structure (as defined on Slides 34 to 36 of Lecture 1b) fitting the BBSW and swap rates given above. <I>(10 marks)</I>\n"
   ]
  },
  {
   "cell_type": "code",
   "execution_count": 117,
   "id": "56684ef8",
   "metadata": {},
   "outputs": [],
   "source": [
    "def smoothness_constructor(df, term_structure):\n",
    "    new_df = pd.DataFrame(df)\n",
    "    new_df['Term'] = [1/12, 1/4, 1/2, 1, 3, 5, 10, 15]\n",
    "    new_df['Rate'] = new_df['Rate']/100\n",
    "    points = len(new_df)\n",
    "    BBSW = new_df[new_df['Type']=='BBSW'].reset_index(drop=True)\n",
    "    Swap = new_df[new_df['Type']=='Swap'].reset_index(drop=True)\n",
    "\n",
    "    def solve(p):\n",
    "        results = []\n",
    "        a = p[:points]\n",
    "        b = p[points:2*points]\n",
    "        c = p[2*points:]\n",
    "\n",
    "        # Condition 1\n",
    "        for i in range(points-1):\n",
    "            t = new_df.iloc[i, 1]\n",
    "            results.append((c[i]*(t**4)+b[i]*t+a[i])-(c[i+1]*(t**4)+b[i+1]*t+a[i+1]))\n",
    "\n",
    "        \n",
    "        # Condition 2\n",
    "        for i in range(points-1):\n",
    "            t = new_df.iloc[i, 1]\n",
    "            results.append((4*c[i]*(t**3)+b[i])-(4*c[i+1]*(t**3)+b[i+1]))\n",
    "\n",
    "        # Condition 3\n",
    "        results.append(b[-1])\n",
    "        results.append(a[0]-new_df.iloc[0, 2])\n",
    "\n",
    "        # Condition 4\n",
    "        for i in range(len(BBSW)):\n",
    "            ti = BBSW.iloc[i, 1]\n",
    "            t = BBSW.iloc[i-1, 1] if i!=0 else 0\n",
    "            results.append((1/5)*c[i]*((ti**5)-(t**5))+(1/2)*b[i]*((ti**2)-(t**2))+a[i]*(ti-t)+np.log(term_structure.iloc[i+1, 1]/term_structure.iloc[i, 1]))\n",
    "\n",
    "        def inside_instant_calculator(t):\n",
    "            T = list(new_df['Term'])\n",
    "            ts = [0] + list(filter(lambda x: x<t, T)) + [t]\n",
    "            sum = 0\n",
    "            for i in range(len(ts)-1):\n",
    "                sum += ((1/5)*c[i]*(ts[i+1]**5-ts[i]**5)+(1/2)*b[i]*(ts[i+1]**2-ts[i]**2)+a[i]*(ts[i+1]-ts[i]))\n",
    "            return sum\n",
    "        \n",
    "        for i in range(len(Swap)):\n",
    "            t = Swap.iloc[i, 1]\n",
    "            freq = 1/4 if t<=3 else 1/2\n",
    "            payments = np.arange(freq, t, freq)\n",
    "            l = Swap.iloc[i, 2]*freq\n",
    "            sum_dfs = sum(list(map(lambda x: np.exp(-inside_instant_calculator(x)), payments)))\n",
    "            results.append(inside_instant_calculator(t)+np.log((1-l*sum_dfs)/(1+l)))\n",
    "\n",
    "        return results\n",
    "    p = solver(solve, [100]*len(new_df)*3)\n",
    "    a = p[:points]\n",
    "    b = p[points:2*points]\n",
    "    c = p[2*points:]\n",
    "    T = list(new_df['Term'])\n",
    "\n",
    "    def spline(t):\n",
    "        i = len(list(filter(lambda x: x<t, T)))\n",
    "        return c[i]*(t**4)+b[i]*t+a[i]\n",
    "    \n",
    "    def df_calculator(t):\n",
    "        ts = [0] + list(filter(lambda x: x<t, T)) + [t]\n",
    "        sum = 0\n",
    "        for i in range(len(ts)-1):\n",
    "            sum += ((1/5)*c[i]*(ts[i+1]**5-ts[i]**5)+(1/2)*b[i]*(ts[i+1]**2-ts[i]**2)+a[i]*(ts[i+1]-ts[i]))\n",
    "        return np.exp(-sum)\n",
    "\n",
    "    return spline, df_calculator"
   ]
  },
  {
   "cell_type": "code",
   "execution_count": 118,
   "id": "45bcc1e9",
   "metadata": {},
   "outputs": [
    {
     "data": {
      "image/png": "[encoded data removed]",
      "text/plain": [
       "<Figure size 2000x500 with 1 Axes>"
      ]
     },
     "metadata": {},
     "output_type": "display_data"
    }
   ],
   "source": [
    "spline, df_calculator_2 = smoothness_constructor(df, term_structure)\n",
    "t = np.arange(0, 15, 1/1000)\n",
    "inst_rate = list(map(lambda x: spline(x),t))\n",
    "plt.figure(figsize=(20,5))\n",
    "plt.plot(t, inst_rate, linestyle='-', color='r', label='Instantaneous Rate')\n",
    "plt.title('Spline')\n",
    "plt.xlabel('Time')\n",
    "plt.ylabel('Instantaneous rate')\n",
    "plt.show()"
   ]
  },
  {
   "cell_type": "markdown",
   "id": "0e27b38f",
   "metadata": {},
   "source": [
    "<H2>Task 3:</H2>\n",
    "Consider a coupon bond with a principal of 100 and a coupon rate of 8% per annum, where the bond matures in exactly five years and the coupons are paid quarterly. Using the term structure that you derived in Task 1, what is the value of this bond? Similarly, using the term structure that you derived in Task 2, what is the value of this bond? <I>(1 mark)</I>\n"
   ]
  },
  {
   "cell_type": "code",
   "execution_count": 119,
   "id": "c89201f8",
   "metadata": {},
   "outputs": [],
   "source": [
    "def bond_value_calc(F, c, freq, T):\n",
    "    payments = np.arange(freq, freq+T, freq)\n",
    "    B1 = list(map(lambda x: df_calculator_1(x), payments))\n",
    "    B2 = list(map(lambda x: df_calculator_2(x), payments))\n",
    "    return np.sum(np.array(B1))*c*freq*F+B1[-1]*F, np.sum(np.array(B2))*c*freq*F+B2[-1]*F"
   ]
  },
  {
   "cell_type": "code",
   "execution_count": 120,
   "id": "a40d57e2",
   "metadata": {},
   "outputs": [
    {
     "name": "stdout",
     "output_type": "stream",
     "text": [
      "Value under Task 1 structure:  117.18242749767916\n",
      "Value under Task 2 structure:  117.18980599957408\n"
     ]
    }
   ],
   "source": [
    "value_1, value_2 = bond_value_calc(100, 0.08, 1/4, 5)\n",
    "print(\"Value under Task 1 structure: \", value_1)\n",
    "print(\"Value under Task 2 structure: \", value_2)"
   ]
  }
 ],
 "metadata": {
  "kernelspec": {
   "display_name": "venv",
   "language": "python",
   "name": "python3"
  },
  "language_info": {
   "codemirror_mode": {
    "name": "ipython",
    "version": 3
   },
   "file_extension": ".py",
   "mimetype": "text/x-python",
   "name": "python",
   "nbconvert_exporter": "python",
   "pygments_lexer": "ipython3",
   "version": "3.12.3"
  }
 },
 "nbformat": 4,
 "nbformat_minor": 5
}
