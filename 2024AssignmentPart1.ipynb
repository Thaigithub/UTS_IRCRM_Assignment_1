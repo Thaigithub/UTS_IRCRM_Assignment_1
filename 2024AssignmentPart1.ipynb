{
 "cells": [
  {
   "cell_type": "markdown",
   "id": "3e5bcfd1",
   "metadata": {},
   "source": [
    "<h1 style=\"font-family:Impact,Arial;font-size:30px;\">37004 Interest Rates and Credit Risk Models - Spring 2024</h1>\n",
    "<h1 style=\"font-family:Impact,Arial;font-size:45px;\">Assignment Part 1</h1>\n",
    "<h2 style=\"font-family:Arial;\">Erik Schl&ouml;gl</h2>\n",
    "<p><small> School of Mathematical &amp; Physical Sciences<br>\n",
    "University of Technology Sydney\n",
    "</small></p>\n",
    "<p>\n",
    "<a href=\"mailto:Erik.Schlogl@uts.edu.au?Subject=37000 JIT\" target=\"_blank\">\n",
    "<small><font color=MediumVioletRed>Erik.Schlogl@uts.edu.au</font></small></a>\n",
    "</p>\n",
    "<hr style=\"height:5px;border:none;color:#333;background-color:#333;\" />\n"
   ]
  },
  {
   "cell_type": "markdown",
   "id": "5a193aa3",
   "metadata": {},
   "source": [
    "Execute the following cell for a `pandas` DataFrame of Australian interest rate data on 11 August 2023:\n"
   ]
  },
  {
   "cell_type": "code",
   "execution_count": 1,
   "id": "654dc620",
   "metadata": {},
   "outputs": [
    {
     "data": {
      "text/html": [
       "<div>\n",
       "<style scoped>\n",
       "    .dataframe tbody tr th:only-of-type {\n",
       "        vertical-align: middle;\n",
       "    }\n",
       "\n",
       "    .dataframe tbody tr th {\n",
       "        vertical-align: top;\n",
       "    }\n",
       "\n",
       "    .dataframe thead th {\n",
       "        text-align: right;\n",
       "    }\n",
       "</style>\n",
       "<table border=\"1\" class=\"dataframe\">\n",
       "  <thead>\n",
       "    <tr style=\"text-align: right;\">\n",
       "      <th></th>\n",
       "      <th>Type</th>\n",
       "      <th>Term</th>\n",
       "      <th>Rate</th>\n",
       "    </tr>\n",
       "  </thead>\n",
       "  <tbody>\n",
       "    <tr>\n",
       "      <th>0</th>\n",
       "      <td>BBSW</td>\n",
       "      <td>1 month</td>\n",
       "      <td>4.06</td>\n",
       "    </tr>\n",
       "    <tr>\n",
       "      <th>1</th>\n",
       "      <td>BBSW</td>\n",
       "      <td>3 months</td>\n",
       "      <td>4.17</td>\n",
       "    </tr>\n",
       "    <tr>\n",
       "      <th>2</th>\n",
       "      <td>BBSW</td>\n",
       "      <td>6 months</td>\n",
       "      <td>4.50</td>\n",
       "    </tr>\n",
       "    <tr>\n",
       "      <th>3</th>\n",
       "      <td>Swap</td>\n",
       "      <td>1 year</td>\n",
       "      <td>4.29</td>\n",
       "    </tr>\n",
       "    <tr>\n",
       "      <th>4</th>\n",
       "      <td>Swap</td>\n",
       "      <td>3 years</td>\n",
       "      <td>4.06</td>\n",
       "    </tr>\n",
       "    <tr>\n",
       "      <th>5</th>\n",
       "      <td>Swap</td>\n",
       "      <td>5 years</td>\n",
       "      <td>4.20</td>\n",
       "    </tr>\n",
       "    <tr>\n",
       "      <th>6</th>\n",
       "      <td>Swap</td>\n",
       "      <td>10 years</td>\n",
       "      <td>4.45</td>\n",
       "    </tr>\n",
       "    <tr>\n",
       "      <th>7</th>\n",
       "      <td>Swap</td>\n",
       "      <td>15 years</td>\n",
       "      <td>4.58</td>\n",
       "    </tr>\n",
       "  </tbody>\n",
       "</table>\n",
       "</div>"
      ],
      "text/plain": [
       "   Type      Term  Rate\n",
       "0  BBSW   1 month  4.06\n",
       "1  BBSW  3 months  4.17\n",
       "2  BBSW  6 months  4.50\n",
       "3  Swap    1 year  4.29\n",
       "4  Swap   3 years  4.06\n",
       "5  Swap   5 years  4.20\n",
       "6  Swap  10 years  4.45\n",
       "7  Swap  15 years  4.58"
      ]
     },
     "execution_count": 1,
     "metadata": {},
     "output_type": "execute_result"
    }
   ],
   "source": [
    "import pandas as pd\n",
    "import numpy as np\n",
    "df = pd.DataFrame([{\"Type\":\"BBSW\",\"Term\":\"1 month\",\"Rate\":4.06},{\"Type\":\"BBSW\",\"Term\":\"3 months\",\"Rate\":4.17},{\"Type\":\"BBSW\",\"Term\":\"6 months\",\"Rate\":4.50},{\"Type\":\"Swap\",\"Term\":\"1 year\",\"Rate\":4.29},{\"Type\":\"Swap\",\"Term\":\"3 years\",\"Rate\":4.06},{\"Type\":\"Swap\",\"Term\":\"5 years\",\"Rate\":4.20},{\"Type\":\"Swap\",\"Term\":\"10 years\",\"Rate\":4.45},{\"Type\":\"Swap\",\"Term\":\"15 years\",\"Rate\":4.58}])\n",
    "df"
   ]
  },
  {
   "cell_type": "markdown",
   "id": "a873acdc",
   "metadata": {},
   "source": [
    "Note that the bank bill swap rate (BBSW) is quoted per annum with simple compounding, and \"Swaps are quoted on a quarterly basis for maturities out to 3 years and on a semi-annual basis for maturities 4 years and greater.\" AFMA (2023), Interest Rate Derivative Conventions (see https://afma.com.au/getattachment/Standards/Market-Conventions/Sections/Content/Interest-Rate-Derivative-Conventions-2023-07.pdf?lang=en-AU )\n"
   ]
  },
  {
   "cell_type": "markdown",
   "id": "1ef373c1",
   "metadata": {},
   "source": [
    "<H2>Task 1:</H2>\n",
    "Determine the term structure of zero coupon bond prices that these rates imply, using loglinear interpolation where necessary. <I>(4 marks)</I>\n"
   ]
  },
  {
   "cell_type": "code",
   "execution_count": 1,
   "id": "899b32f6",
   "metadata": {},
   "outputs": [],
   "source": [
    "# your code here"
   ]
  },
  {
   "cell_type": "markdown",
   "id": "6f2b4196",
   "metadata": {},
   "source": [
    "<H2>Task 2:</H2>\n",
    "Find the coefficients of a \"maximum smoothness\" term structure (as defined on Slides 34 to 36 of Lecture 1b) fitting the BBSW and swap rates given above. <I>(10 marks)</I>\n"
   ]
  },
  {
   "cell_type": "code",
   "execution_count": 3,
   "id": "56684ef8",
   "metadata": {},
   "outputs": [],
   "source": [
    "# your code here"
   ]
  },
  {
   "cell_type": "markdown",
   "id": "0e27b38f",
   "metadata": {},
   "source": [
    "<H2>Task 3:</H2>\n",
    "Consider a coupon bond with a principal of 100 and a coupon rate of 8% per annum, where the bond matures in exactly five years and the coupons are paid quarterly. Using the term structure that you derived in Task 1, what is the value of this bond? Similarly, using the term structure that you derived in Task 2, what is the value of this bond? <I>(1 mark)</I>\n"
   ]
  },
  {
   "cell_type": "code",
   "execution_count": null,
   "id": "c89201f8",
   "metadata": {},
   "outputs": [],
   "source": [
    "# your code here"
   ]
  }
 ],
 "metadata": {
  "kernelspec": {
   "display_name": "Python 3",
   "language": "python",
   "name": "python3"
  },
  "language_info": {
   "codemirror_mode": {
    "name": "ipython",
    "version": 3
   },
   "file_extension": ".py",
   "mimetype": "text/x-python",
   "name": "python",
   "nbconvert_exporter": "python",
   "pygments_lexer": "ipython3",
   "version": "3.12.3"
  }
 },
 "nbformat": 4,
 "nbformat_minor": 5
}
